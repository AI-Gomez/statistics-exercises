{
 "cells": [
  {
   "cell_type": "code",
   "execution_count": 1,
   "metadata": {},
   "outputs": [
    {
     "name": "stdout",
     "output_type": "stream",
     "text": [
      "Imports complete, GET Some!\n"
     ]
    }
   ],
   "source": [
    "import math\n",
    "\n",
    "import numpy as np\n",
    "import pandas as pd\n",
    "import matplotlib.pyplot as plt\n",
    "from scipy import stats\n",
    "print('Imports complete, GET Some!')"
   ]
  },
  {
   "cell_type": "code",
   "execution_count": 2,
   "metadata": {},
   "outputs": [],
   "source": [
    "plt.rc('figure', figsize=(16, 9))\n",
    "plt.rc('axes.spines', top=False, right=False)\n",
    "plt.rc('patch', ec='black', force_edgecolor=True)\n",
    "plt.rc('font', size=13)\n",
    "\n",
    "np.random.seed(13)"
   ]
  },
  {
   "cell_type": "markdown",
   "metadata": {},
   "source": [
    "#################\n",
    "codeup students start producing a scratch off lottery ticket\n",
    "called \"Golden Codys\". The odds of winning a prize must be \n",
    "advertised to the state, and since we are manufacturing the \n",
    "tickets, we know exactly how many winners and losers there are.\n",
    "\n",
    "+Theory: Our population is the 1000 tickets we have manufactured\n",
    "\n",
    "+Implementation: Create a boolean pandas Series\n",
    "\n",
    "++ we model win with true and lose with false\n",
    "++ because of this, we can take the mean of a series to measure the likelihood of winning"
   ]
  },
  {
   "cell_type": "code",
   "execution_count": 3,
   "metadata": {},
   "outputs": [
    {
     "name": "stdout",
     "output_type": "stream",
     "text": [
      "The actual probability of winning is 0.25\n"
     ]
    },
    {
     "data": {
      "image/png": "[encoded data removed]",
      "text/plain": [
       "<Figure size 1152x648 with 1 Axes>"
      ]
     },
     "metadata": {
      "needs_background": "light"
     },
     "output_type": "display_data"
    }
   ],
   "source": [
    "tickets = pd.Series([True] * 250 + [False] * 750)\n",
    "tickets.value_counts().set_axis(['Lose', 'Win']).plot.bar()\n",
    "plt.xticks(rotation=0)\n",
    "print('The actual probability of winning is %.2f' % tickets.mean())"
   ]
  },
  {
   "cell_type": "markdown",
   "metadata": {},
   "source": [
    "+Scenario: Each student in a classroom is given a Golden Cody scratch off at random\n",
    "+Theory\n",
    "\n",
    "+We take a random sample and calculate the win rate, we won't expect to see exactly\n",
    "25% even though we know that is what the overall rate is.\n",
    "\n",
    "+Examples of biased samples:\n",
    "\n",
    "++ non-response: people that don't respond are a diff population\n",
    "++ undercoverage: some groups aren't well represented\n",
    "++ voluntary: people volunteer for surveys\n",
    "++ leading questions\n",
    "++ social desirability\n",
    "\n",
    "+Implementation: Use the .sample method on our series to randomly choose 25 tickets, \n",
    "representing 25 students in a classroom. Use .mean to calculate what percentage of \n",
    "the values are True, or are winning tickets."
   ]
  },
  {
   "cell_type": "code",
   "execution_count": 4,
   "metadata": {},
   "outputs": [
    {
     "data": {
      "text/plain": [
       "0.12"
      ]
     },
     "execution_count": 4,
     "metadata": {},
     "output_type": "execute_result"
    }
   ],
   "source": [
    "n = 25\n",
    "tickets.sample(n).mean()"
   ]
  },
  {
   "cell_type": "markdown",
   "metadata": {},
   "source": [
    "+Scenario: each student in 4 different cohorts is given a Golden Codys scratch off \n",
    "ticket, we want to calculate the win rate for each classroom.\n",
    "\n",
    "+Theory: it is unlikely any classroom will have exactly a 25% winrate, instead we\n",
    "will see slightly different numbers for each classroom.\n",
    "\n",
    "+Implementation: loop through a range of 5 to get a sample and calculate the \n",
    "winrate 5 times. Each of the 5 numbers produced represents the calculated winrate \n",
    "for one classroom of 25 students."
   ]
  },
  {
   "cell_type": "code",
   "execution_count": 5,
   "metadata": {},
   "outputs": [
    {
     "data": {
      "text/plain": [
       "[0.28, 0.28, 0.08, 0.24, 0.36]"
      ]
     },
     "execution_count": 5,
     "metadata": {},
     "output_type": "execute_result"
    }
   ],
   "source": [
    "[tickets.sample(n).mean() for i in range(5)]"
   ]
  },
  {
   "cell_type": "markdown",
   "metadata": {},
   "source": [
    "Theory\n",
    "\n",
    "+The winrates we see aren't ever exactly 25%, but we would expect the rate to be \n",
    "closer to 25% than further away. That is, it is more likely that a classroom \n",
    "will come up with a win rate of 24% than a winrate of 10%.\n",
    "\n",
    "+If we were to repeat this experiment a whole bunch of times, say 10,000, we \n",
    "would find that the calculated winrates are, in fact, normally distributed.\n",
    "\n",
    "+That is, we would expect the calculated average winrate for a classroom to follow \n",
    "a normal distribution, even though the underlying random process is not based \n",
    "on a normal distribution\n",
    "\n",
    "+Implementation: To visualize this, we'll create a series full of calculated \n",
    "winrates for 10,000 classrooms, each classroom made up of 25 students. That is, \n",
    "we will simulate 10,000 classrooms of 25 students getting Golden Codys and \n",
    "calculate the average winrate for each of the 10,000 classrooms."
   ]
  },
  {
   "cell_type": "code",
   "execution_count": 6,
   "metadata": {},
   "outputs": [
    {
     "data": {
      "text/plain": [
       "<matplotlib.axes._subplots.AxesSubplot at 0x7fe2a45ab150>"
      ]
     },
     "execution_count": 6,
     "metadata": {},
     "output_type": "execute_result"
    },
    {
     "data": {
      "image/png": "[encoded data removed]",
      "text/plain": [
       "<Figure size 1152x648 with 1 Axes>"
      ]
     },
     "metadata": {
      "needs_background": "light"
     },
     "output_type": "display_data"
    }
   ],
   "source": [
    "calculated_winrates = pd.Series([tickets.sample(n).mean() for _ in range(10_000)])\n",
    "calculated_winrates.plot.hist(bins=20)"
   ]
  },
  {
   "cell_type": "markdown",
   "metadata": {},
   "source": [
    "^^^Theory^^^\n",
    "\n",
    "+The above visual represents the sampling distribution for the \n",
    "winrate of Golden Codys, based on a class of 25.\n",
    "\n",
    "+The Central Limit Theorm says that sampling distribution will \n",
    "be normally distributed even if the underlying random variable isn't."
   ]
  },
  {
   "cell_type": "markdown",
   "metadata": {},
   "source": [
    "####### Mini Exercise CLT\n",
    "\n",
    "+Calculate, theoretically (in your head is fine), the expected \n",
    "value for the average of 6 dice rolls.\n",
    "\n",
    "+Write the code necessary to simulate taking the average of 6 \n",
    "dice rolls 10,000 times. Store each of the 10,000 averages in a list.\n",
    "\n",
    "+Plot the distribution of the calculated averages. What do \n",
    "you notice about the shape of the distribution of calculated \n",
    "averages? What kind of distribution is the underlying random \n",
    "variable (i.e. one dice roll?)"
   ]
  },
  {
   "cell_type": "code",
   "execution_count": 9,
   "metadata": {},
   "outputs": [],
   "source": [
    "se = math.sqrt((.25 * .75) / n)"
   ]
  },
  {
   "cell_type": "markdown",
   "metadata": {},
   "source": [
    "Let's compare our calculated standard error (i.e. the standard deviation of the sample means) to the experimental value:¶"
   ]
  },
  {
   "cell_type": "code",
   "execution_count": 10,
   "metadata": {},
   "outputs": [
    {
     "name": "stdout",
     "output_type": "stream",
     "text": [
      "se:                 0.0866\n",
      "sample_means.std(): 0.0857\n"
     ]
    }
   ],
   "source": [
    "print('se:                 %.4f' % se)\n",
    "print('sample_means.std(): %.4f' % calculated_winrates.std())"
   ]
  },
  {
   "cell_type": "markdown",
   "metadata": {},
   "source": [
    "That the sampling distribution being normally distributed is very powerful and has important implications:\n",
    "confidence intervals for population parameter estimates (e.g. estimating the population mean):\n",
    "as n goes up, interval becomes smaller\n",
    "as certainty goes up, interval becomes larger\n",
    "99% of calculated CIs will contain the true mean (e.g. if we ran simulations and re-sampled, 99% of the simulations' calculated CIs would contain the true mean)\n",
    "hypothesis testing\n",
    "One classroom calculates their winrate at 20% and claims the tickets were distributed unfairly. What is the likelihood we observe a 20% (or smaller) winrate just due to chance?"
   ]
  },
  {
   "cell_type": "code",
   "execution_count": 11,
   "metadata": {},
   "outputs": [
    {
     "data": {
      "text/plain": [
       "0.28283511827393837"
      ]
     },
     "execution_count": 11,
     "metadata": {},
     "output_type": "execute_result"
    }
   ],
   "source": [
    "mean = calculated_winrates.mean()\n",
    "sd = calculated_winrates.std()\n",
    "\n",
    "stats.norm(mean, sd).cdf(.2)"
   ]
  },
  {
   "cell_type": "markdown",
   "metadata": {},
   "source": [
    "The probability we've calculated is a p-value. The likelihood that we observe the data that we have if the null hypothesis is true.¶\n",
    "\n",
    "Null and Alternative Hypothesis¶\n",
    "$H_0$: status quo: no difference or no effect $H_a$: alternative: there is a difference or effect\n",
    "whether $H_a$ is ≠ , <, >, determines one-tailed vs two-tailed test\n",
    "< or > == one-tailed\n",
    "≠ == two-tailed\n",
    "Hypothesis Testing Results¶"
   ]
  },
  {
   "cell_type": "markdown",
   "metadata": {},
   "source": [
    "Fail to reject $H0$  TN  FN (Type II) Reject $H0$  FP (Type I)  TP\n",
    "Mini Exercise -- Null + Alternate Hypothesis and Errors¶\n",
    "\n",
    "For each of the following scenarios: refine the question, generate a null and alternative hypothesis, and give examples of true positives, true negatives, type I and type II errors.\n",
    "Are the average grades in web development vs data science classes different?\n",
    "Is there a relationship between how early a student shows up to class and their grade?\n",
    "Are web dev or data science students more likely to be coffee drinkers?"
   ]
  },
  {
   "cell_type": "markdown",
   "metadata": {},
   "source": [
    "For each of the following questions, formulate a null and alternative hypothesis (be as specific as you can be), then give an example of what a true positive, true negative, type I and type II errors would look like. Note that some of the questions are intentionally phrased in a vague way. It is your job to reword these as more precise questions that could be tested.¶"
   ]
  },
  {
   "cell_type": "markdown",
   "metadata": {},
   "source": [
    "Has the network latency gone up since we switched internet service providers?¶"
   ]
  },
  {
   "cell_type": "markdown",
   "metadata": {},
   "source": [
    "Source:¶\n",
    "number of tickets being proceesed or speed of processing tickets\n",
    "Hypotheses:¶\n",
    "\n",
    "$H_0$: The speed of execution of tickets hasn't changed\n",
    "\n",
    "$H_a$: The speed of processing tickets has gone down since switching to Google Fiber\n",
    "\n",
    "Possible Outcomes:¶\n",
    "\n",
    "True Positive: Finding that the speed of execution has really gone up.\n",
    "\n",
    "False Positive (Type I Error): the speed of procesing tickets has gone up but I already switch to Google Fiber\n",
    "\n",
    "True Negative: Finding that the speed of query execution hasn't changed at all.\n",
    "\n",
    "False Negative (Type II Error):Finding that the speed of processing tickets hasn't changed but we have more server querries due to a new customers."
   ]
  },
  {
   "cell_type": "markdown",
   "metadata": {},
   "source": [
    "* Is the website redesign any good?¶"
   ]
  },
  {
   "cell_type": "markdown",
   "metadata": {},
   "source": [
    "Source¶\n",
    "\n",
    "number of clicks per newly design website\n",
    "Hypotheses\n",
    "\n",
    "$H_0$: The number of clicks have stayed the same.\n",
    "\n",
    "$H_a$: The number of clicks are much much higher.\n",
    "\n",
    "Possible Results\n",
    "\n",
    "True Positive: the number of clicks are higher than the old website\n",
    "\n",
    "True Negative: the number of clicks haven't changed.\n",
    "\n",
    "False Positive (Type I Error): the number of clicks are higher but we invested to do a big promo ad.\n",
    "\n",
    "False Negative (Type II Error): the number of clicks haven't changed but our our promo cost us a lot of money"
   ]
  },
  {
   "cell_type": "markdown",
   "metadata": {},
   "source": [
    " Is our television ad driving more sales?¶"
   ]
  },
  {
   "cell_type": "markdown",
   "metadata": {},
   "source": [
    "Source\n",
    "number of TV sold this past month\n",
    "\n",
    "Hypotheses\n",
    "\n",
    "$H_0$: the number of TV sold haven't changed.\n",
    "\n",
    "$H_a$: the number of TV sold have tuly increased or gone up.\n",
    "\n",
    "Possible Results\n",
    "\n",
    "True Positive: the number of TV sold have gone up and they have gone up.\n",
    "\n",
    "True Negative: the number of TV sold haven't changed and they aren't causing more or less sales.\n",
    "\n",
    "False Positive (Type I Error): the number of TV sold have gone up but we also just opened a new store.\n",
    "\n",
    "False Negative (Type II Error): the number of TV sold haven't changed but we also just closed a store."
   ]
  },
  {
   "cell_type": "code",
   "execution_count": null,
   "metadata": {},
   "outputs": [],
   "source": []
  }
 ],
 "metadata": {
  "kernelspec": {
   "display_name": "Python 3",
   "language": "python",
   "name": "python3"
  },
  "language_info": {
   "codemirror_mode": {
    "name": "ipython",
    "version": 3
   },
   "file_extension": ".py",
   "mimetype": "text/x-python",
   "name": "python",
   "nbconvert_exporter": "python",
   "pygments_lexer": "ipython3",
   "version": "3.7.6"
  }
 },
 "nbformat": 4,
 "nbformat_minor": 4
}
