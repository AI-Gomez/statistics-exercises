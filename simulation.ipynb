{
 "cells": [
  {
   "cell_type": "code",
   "execution_count": 1,
   "metadata": {},
   "outputs": [
    {
     "name": "stdout",
     "output_type": "stream",
     "text": [
      "Import Complete!\n"
     ]
    }
   ],
   "source": [
    "import numpy as np\n",
    "import pandas as pd\n",
    "print(\"Import Complete!\")"
   ]
  },
  {
   "cell_type": "code",
   "execution_count": 5,
   "metadata": {},
   "outputs": [
    {
     "name": "stdout",
     "output_type": "stream",
     "text": [
      "17.31 %\n"
     ]
    }
   ],
   "source": [
    "#1 How likely is it that you roll doubles when rolling two dice?\n",
    "sim = 10_000\n",
    "def dice_roll():\n",
    "    return np.random.choice([1,2,3,4,5,6], size = sim)\n",
    "first = dice_roll()\n",
    "second = dice_roll()\n",
    "doubles = first == second\n",
    "double = np.count_nonzero(doubles)\n",
    "roll_doubles = double/sim*100\n",
    "print(roll_doubles,'%')\n",
    "    "
   ]
  },
  {
   "cell_type": "code",
   "execution_count": 9,
   "metadata": {},
   "outputs": [
    {
     "data": {
      "text/plain": [
       "0.2215"
      ]
     },
     "execution_count": 9,
     "metadata": {},
     "output_type": "execute_result"
    }
   ],
   "source": [
    "#2 If you flip 8 coins, what is the probability of getting exactly 3 \n",
    "#heads? What is the probability of getting more than 3 heads?\n",
    "flips = np.random.choice([\"Heads\", \"Tails\",\n",
    "                          \"Heads\", \"Tails\",\n",
    "                          \"Heads\", \"Tails\",\n",
    "                          \"Heads\", \"Tails\",\n",
    "                          \"Heads\", \"Tails\",\n",
    "                          \"Heads\", \"Tails\",\n",
    "                          \"Heads\", \"Tails\",\n",
    "                          \"Heads\", \"Tails\"], size=10_000)\n",
    "head3 = (flips == \"Heads\") == 3\n",
    "heads3 = np.count_nonzero(head3)\n",
    "heads3\n",
    "\n",
    "#alt approach\n",
    "n_trials = nrows = 10_000\n",
    "n_coins = ncols = 8\n",
    "##Lines it up into an array\n",
    "flips1 = np.random.choice([0,1], n_trials * n_coins).reshape(nrows, ncols)\n",
    "flips1\n",
    "##gets the sum of each row ie; heads = 1, tails = 0\n",
    "sums_by_trial = flips1.sum(axis=1)\n",
    "sums_by_trial\n",
    "##finds all rows that had only 3 heads\n",
    "exactly_3 = sums_by_trial == 3\n",
    "exactly_3\n",
    "##gets the average of all the rows that equaled 3 and averages it out to the complete array\n",
    "exactly_3_rate = exactly_3.astype(int).mean()\n",
    "exactly_3_rate"
   ]
  },
  {
   "cell_type": "code",
   "execution_count": 15,
   "metadata": {},
   "outputs": [
    {
     "data": {
      "text/plain": [
       "0.06240004"
      ]
     },
     "execution_count": 15,
     "metadata": {},
     "output_type": "execute_result"
    }
   ],
   "source": [
    "#3 There are approximitely 3 web development cohorts for every 1 data science cohort at Codeup. \n",
    "#Assuming that Codeup randomly selects an alumni to put on a billboard, what are the odds \n",
    "#that the two billboards I drive past both have data science students on them?\n",
    "\n",
    "#setup the probability\n",
    "prob = [.75, .25]\n",
    "#line it up for 10_000 tries \n",
    "flips = np.random.choice(['webdev', 'ds'], size = 10_000, p = prob)\n",
    "#line up the average ds comes out\n",
    "probs = (flips == 'ds').mean()\n",
    "#squareing it for 2 ds people\n",
    "probs**2"
   ]
  },
  {
   "cell_type": "code",
   "execution_count": 25,
   "metadata": {},
   "outputs": [
    {
     "data": {
      "text/plain": [
       "0.7181"
      ]
     },
     "execution_count": 25,
     "metadata": {},
     "output_type": "execute_result"
    }
   ],
   "source": [
    "#4 Codeup students buy, on average, 3 poptart packages (+- 1.5) a day from the \n",
    "#snack vending machine. If on monday the machine is restocked with 17 poptart \n",
    "#packages, how likely is it that I will be able to buy some poptarts on Friday afternoon?\n",
    "\n",
    "#using random normal for given SD of 1.5\n",
    "poptarts = np.random.normal(3, 1.5 , size =(10_000,5))\n",
    "poptarts\n",
    "# this is 1 week\n",
    "poptarts[0]\n",
    "#axis 1 sums each row\n",
    "weekly_demand = poptarts.sum(axis=1)\n",
    "#if weekly demand is less than 17 then there are poptarts on friday\n",
    "(weekly_demand < 17).mean()"
   ]
  },
  {
   "cell_type": "code",
   "execution_count": 28,
   "metadata": {},
   "outputs": [
    {
     "data": {
      "text/plain": [
       "0.21112"
      ]
     },
     "execution_count": 28,
     "metadata": {},
     "output_type": "execute_result"
    }
   ],
   "source": [
    "#5 Men have an average height of 178 cm and standard deviation of 8cm\n",
    "#Women have a mean of 170, sd = 6cm.\n",
    "#If a man and woman are chosen at random, P(woman taller than man)?\n",
    "trials = 100_000\n",
    "m = np.random.normal(178, 8, trials)\n",
    "f = np.random.normal(170, 6, trials)\n",
    "m < f\n",
    "(m<f).mean()"
   ]
  },
  {
   "cell_type": "code",
   "execution_count": 32,
   "metadata": {},
   "outputs": [
    {
     "data": {
      "text/plain": [
       "0.81905"
      ]
     },
     "execution_count": 32,
     "metadata": {},
     "output_type": "execute_result"
    }
   ],
   "source": [
    "#6 When installing anaconda on a student's computer, there's a 1 in 250 \n",
    "#chance that the download is corrupted and the installation fails. What \n",
    "#are the odds that after having 50 students download anaconda, no one \n",
    "#has an installation issue? 100 students?\n",
    "\n",
    "#50 students\n",
    "trials = 100_000\n",
    "students_per_trial = 50\n",
    "installs = np.random.choice([0,1], size=(trials, students_per_trial), p=[1/250, 249/250])\n",
    "df=pd.DataFrame(installs)\n",
    "df.head()\n",
    "df['all_good'] = df.sum(axis=1) == students_per_trial\n",
    "df.all_good.mean()"
   ]
  },
  {
   "cell_type": "code",
   "execution_count": 33,
   "metadata": {},
   "outputs": [
    {
     "data": {
      "text/plain": [
       "0.67055"
      ]
     },
     "execution_count": 33,
     "metadata": {},
     "output_type": "execute_result"
    }
   ],
   "source": [
    "#100 students\n",
    "trials = 100_000\n",
    "students_per_trial = 100\n",
    "installs = np.random.choice([0,1], size=(trials, students_per_trial), p=[1/250, 249/250])\n",
    "df=pd.DataFrame(installs)\n",
    "df.head()\n",
    "df['all_good'] = df.sum(axis=1) == students_per_trial\n",
    "df.all_good.mean()"
   ]
  },
  {
   "cell_type": "code",
   "execution_count": 36,
   "metadata": {},
   "outputs": [
    {
     "data": {
      "text/plain": [
       "0.45393"
      ]
     },
     "execution_count": 36,
     "metadata": {},
     "output_type": "execute_result"
    }
   ],
   "source": [
    "#What is the probability that we observe an installation issue within \n",
    "#the first 150 students that download anaconda?\n",
    "students_per_trial = 150\n",
    "installs = np.random.choice([0,1], size=(trials, students_per_trial), p=[1/250, 249/250])\n",
    "df=pd.DataFrame(installs)\n",
    "df.head()\n",
    "df['failures'] = df.sum(axis=1) < students_per_trial\n",
    "df.failures.mean()"
   ]
  },
  {
   "cell_type": "code",
   "execution_count": 37,
   "metadata": {},
   "outputs": [
    {
     "data": {
      "text/plain": [
       "0.16526"
      ]
     },
     "execution_count": 37,
     "metadata": {},
     "output_type": "execute_result"
    }
   ],
   "source": [
    "#How likely is it that 450 students all download anaconda without an issue?\n",
    "students_per_trial = 450\n",
    "installs = np.random.choice([0,1], size=(trials, students_per_trial), p=[1/250, 249/250])\n",
    "df=pd.DataFrame(installs)\n",
    "df.head()\n",
    "df['all_good'] = df.sum(axis=1) == students_per_trial\n",
    "df.all_good.mean()"
   ]
  },
  {
   "cell_type": "code",
   "execution_count": 42,
   "metadata": {},
   "outputs": [
    {
     "data": {
      "text/plain": [
       "0.02676"
      ]
     },
     "execution_count": 42,
     "metadata": {},
     "output_type": "execute_result"
    }
   ],
   "source": [
    "#7 There's a 70% chance on any given day that there will be at \n",
    "#least one food truck at Travis Park. However, you haven't \n",
    "#seen a food truck there in 3 days. How unlikely is this?\n",
    "\n",
    "trucks = np.random.choice([1,0], size=(100_000, 3), p=[.7,.3])\n",
    "df = pd.DataFrame(trucks)\n",
    "df.columns = ['day1', 'day2', 'day3']\n",
    "df.head()\n",
    "df['appearances'] = df.day1 + df.day2 + df.day3\n",
    "df.head()\n",
    "(df.appearances == 0).mean()"
   ]
  },
  {
   "cell_type": "code",
   "execution_count": 43,
   "metadata": {},
   "outputs": [
    {
     "data": {
      "text/plain": [
       "0.99983"
      ]
     },
     "execution_count": 43,
     "metadata": {},
     "output_type": "execute_result"
    }
   ],
   "source": [
    "#How likely is it that a food truck will show up sometime this week?\n",
    "trucks = np.random.choice([1,0], size=(100_000, 7), p=[.7,.3])\n",
    "df = pd.DataFrame(trucks)\n",
    "df['appearances'] = df.sum(axis=1)\n",
    "(df.appearances > 0).mean()"
   ]
  },
  {
   "cell_type": "code",
   "execution_count": 51,
   "metadata": {},
   "outputs": [
    {
     "data": {
      "text/plain": [
       "0.49316000000000004"
      ]
     },
     "execution_count": 51,
     "metadata": {},
     "output_type": "execute_result"
    }
   ],
   "source": [
    "#8 If 23 people are in the same room, what are the odds that two of them \n",
    "#share a birthday? What if it's 20 people? 40?\n",
    "nsim = 100_000\n",
    "npeople = 23\n",
    "birthdays = np.random.choice(range(365), size = (nsim, npeople))\n",
    "df = pd.DataFrame(birthdays)\n",
    "df.head()\n",
    "df['n_unique'] = df.nunique(axis=1)\n",
    "1 - (df.n_unique != 23).mean()"
   ]
  },
  {
   "cell_type": "code",
   "execution_count": 55,
   "metadata": {},
   "outputs": [
    {
     "data": {
      "text/plain": [
       "0.41236"
      ]
     },
     "execution_count": 55,
     "metadata": {},
     "output_type": "execute_result"
    }
   ],
   "source": [
    "# What about 20 people in the room?\n",
    "# What is probability that two people share a birthday\n",
    "nsim = 100_000\n",
    "npeople = 20\n",
    "birthdays = np.random.choice(range(365), size = (nsim, npeople))\n",
    "df = pd.DataFrame(birthdays)\n",
    "df.head()\n",
    "df['n_unique'] = df.nunique(axis=1)\n",
    "(df.n_unique != npeople).mean()"
   ]
  },
  {
   "cell_type": "code",
   "execution_count": 56,
   "metadata": {},
   "outputs": [
    {
     "data": {
      "text/plain": [
       "0.88866"
      ]
     },
     "execution_count": 56,
     "metadata": {},
     "output_type": "execute_result"
    }
   ],
   "source": [
    "# What about 40 people in the room?\n",
    "# What is probability that two people share a birthday\n",
    "nsim = 100_000\n",
    "npeople = 40\n",
    "birthdays = np.random.choice(range(365), size = (nsim, npeople))\n",
    "df = pd.DataFrame(birthdays)\n",
    "df.head()\n",
    "df['n_unique'] = df.nunique(axis=1)\n",
    "(df.n_unique != npeople).mean()"
   ]
  },
  {
   "cell_type": "code",
   "execution_count": 57,
   "metadata": {},
   "outputs": [
    {
     "data": {
      "text/plain": [
       "Text(0, 0.5, 'Probability')"
      ]
     },
     "execution_count": 57,
     "metadata": {},
     "output_type": "execute_result"
    },
    {
     "data": {
      "image/png": "[encoded data removed]",
      "text/plain": [
       "<Figure size 432x288 with 1 Axes>"
      ]
     },
     "metadata": {
      "needs_background": "light"
     },
     "output_type": "display_data"
    }
   ],
   "source": [
    "#Graph it\n",
    "# What if we have rooms of increasing size\n",
    "\n",
    "x = range(1, 100)\n",
    "\n",
    "# N will be a list of N for each room size\n",
    "N = [n * (n-1) / 2 for n in x]\n",
    "\n",
    "# Get the probability for each N\n",
    "y = [1 - (364/365)**n for n in N]\n",
    "\n",
    "import matplotlib.pyplot as plt\n",
    "\n",
    "plt.title(\"Probability of at least two people sharing a birthday\")\n",
    "plt.plot(x, y)\n",
    "plt.xlabel(\"Number of people in the room\")\n",
    "plt.ylabel(\"Probability\")"
   ]
  },
  {
   "cell_type": "code",
   "execution_count": null,
   "metadata": {},
   "outputs": [],
   "source": []
  }
 ],
 "metadata": {
  "kernelspec": {
   "display_name": "Python 3",
   "language": "python",
   "name": "python3"
  },
  "language_info": {
   "codemirror_mode": {
    "name": "ipython",
    "version": 3
   },
   "file_extension": ".py",
   "mimetype": "text/x-python",
   "name": "python",
   "nbconvert_exporter": "python",
   "pygments_lexer": "ipython3",
   "version": "3.7.6"
  }
 },
 "nbformat": 4,
 "nbformat_minor": 4
}
