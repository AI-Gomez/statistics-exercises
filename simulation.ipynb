{
 "cells": [
  {
   "cell_type": "code",
   "execution_count": 2,
   "metadata": {},
   "outputs": [
    {
     "name": "stdout",
     "output_type": "stream",
     "text": [
      "Import Complete!\n"
     ]
    }
   ],
   "source": [
    "import numpy as np\n",
    "import pandas as pd\n",
    "print(\"Import Complete!\")"
   ]
  },
  {
   "cell_type": "code",
   "execution_count": 28,
   "metadata": {},
   "outputs": [
    {
     "name": "stdout",
     "output_type": "stream",
     "text": [
      "16.939999999999998 %\n"
     ]
    }
   ],
   "source": [
    "#1 How likely is it that you roll doubles when rolling two dice?\n",
    "sim = 10_000\n",
    "def dice_roll():\n",
    "    return np.random.choice([1,2,3,4,5,6], size = sim)\n",
    "first = dice_roll()\n",
    "second = dice_roll()\n",
    "doubles = first == second\n",
    "double = np.count_nonzero(doubles)\n",
    "roll_doubles = double/sim*100\n",
    "print(roll_doubles,'%')\n",
    "    "
   ]
  },
  {
   "cell_type": "code",
   "execution_count": 35,
   "metadata": {},
   "outputs": [
    {
     "data": {
      "text/plain": [
       "0"
      ]
     },
     "execution_count": 35,
     "metadata": {},
     "output_type": "execute_result"
    }
   ],
   "source": [
    "#2 If you flip 8 coins, what is the probability of getting exactly 3 \n",
    "#heads? What is the probability of getting more than 3 heads?\n",
    "flips = np.random.choice([\"Heads\", \"Tails\",\n",
    "                          \"Heads\", \"Tails\",\n",
    "                          \"Heads\", \"Tails\",\n",
    "                          \"Heads\", \"Tails\",\n",
    "                          \"Heads\", \"Tails\",\n",
    "                          \"Heads\", \"Tails\",\n",
    "                          \"Heads\", \"Tails\",\n",
    "                          \"Heads\", \"Tails\"], size=100_000)\n",
    "head3 = (flips == \"Heads\") >= 3\n",
    "heads3 = np.count_nonzero(head3)\n",
    "heads3"
   ]
  },
  {
   "cell_type": "code",
   "execution_count": null,
   "metadata": {},
   "outputs": [],
   "source": []
  }
 ],
 "metadata": {
  "kernelspec": {
   "display_name": "Python 3",
   "language": "python",
   "name": "python3"
  },
  "language_info": {
   "codemirror_mode": {
    "name": "ipython",
    "version": 3
   },
   "file_extension": ".py",
   "mimetype": "text/x-python",
   "name": "python",
   "nbconvert_exporter": "python",
   "pygments_lexer": "ipython3",
   "version": "3.7.6"
  }
 },
 "nbformat": 4,
 "nbformat_minor": 4
}
