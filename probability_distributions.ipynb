{
 "cells": [
  {
   "cell_type": "code",
   "execution_count": 1,
   "metadata": {},
   "outputs": [
    {
     "name": "stdout",
     "output_type": "stream",
     "text": [
      "Imports complete... GET SOME\n"
     ]
    }
   ],
   "source": [
    "import pandas as pd\n",
    "import numpy as np\n",
    "import matplotlib.pyplot as plt\n",
    "from scipy import stats\n",
    "print('Imports complete... GET SOME')"
   ]
  },
  {
   "cell_type": "code",
   "execution_count": 2,
   "metadata": {},
   "outputs": [
    {
     "data": {
      "text/plain": [
       "Text(0, 0.5, 'P-Cars')"
      ]
     },
     "execution_count": 2,
     "metadata": {},
     "output_type": "execute_result"
    },
    {
     "data": {
      "image/png": "[encoded data removed]",
      "text/plain": [
       "<Figure size 432x288 with 1 Axes>"
      ]
     },
     "metadata": {
      "needs_background": "light"
     },
     "output_type": "display_data"
    }
   ],
   "source": [
    "#A bank found that the average number of cars waiting during the noon hour at a \n",
    "#drive-up window follows a Poisson distribution with a mean of 2 cars. Make a \n",
    "#chart of this distribution and answer these questions concerning the probability\n",
    "#of cars waiting at the drive-up window.\n",
    "\n",
    "x = np.arange(0, 5)\n",
    "y = stats.poisson(2).pmf(x)\n",
    "\n",
    "plt.bar(x, y)\n",
    "plt.title('Bank Drive-up Window')\n",
    "plt.xlabel('Cars')\n",
    "plt.ylabel('P-Cars')"
   ]
  },
  {
   "cell_type": "code",
   "execution_count": 3,
   "metadata": {},
   "outputs": [
    {
     "name": "stdout",
     "output_type": "stream",
     "text": [
      "The probability that no cars will drive up in the noon hour is 13.53352832366127 %\n",
      "The simulated probability is 13.780000000000001 %\n"
     ]
    }
   ],
   "source": [
    "#What is the probability that no cars drive up in the noon hour?\n",
    "\n",
    "cars = stats.poisson(2).pmf(0)\n",
    "print(\"The probability that no cars will drive up in the noon hour is\", cars*100, \"%\")\n",
    "\n",
    "#Theoretical-Simulated\n",
    "carsS = np.random.poisson(2, size=10_000)\n",
    "sim_cars = (carsS == 0).mean()\n",
    "print('The simulated probability is', sim_cars*100, '%')"
   ]
  },
  {
   "cell_type": "code",
   "execution_count": 4,
   "metadata": {},
   "outputs": [
    {
     "name": "stdout",
     "output_type": "stream",
     "text": [
      "The probability of 3 or more cars at the drive thru is 32.33235838169365 %\n",
      "The simulated prob. is 32.01 %\n"
     ]
    }
   ],
   "source": [
    "#What is the probability that 3 or more cars come through the drive through?\n",
    "\n",
    "cars3 = stats.poisson(2).sf(2)\n",
    "print('The probability of 3 or more cars at the drive thru is', cars3*100, '%')\n",
    "\n",
    "#Theoretical - Simulated\n",
    "car3sim = (carsS >= 3).mean()\n",
    "print('The simulated prob. is', car3sim*100, '%')"
   ]
  },
  {
   "cell_type": "code",
   "execution_count": 5,
   "metadata": {},
   "outputs": [
    {
     "name": "stdout",
     "output_type": "stream",
     "text": [
      "86.46647167633873 %\n",
      "86.22 %\n"
     ]
    }
   ],
   "source": [
    "#How likely is it that the drive through gets at least 1 car?\n",
    "cars1 = stats.poisson(2).sf(0)\n",
    "print(cars1*100,'%')\n",
    "\n",
    "#Theoretical - Simulated\n",
    "cars1sim = (carsS >= 1).mean()\n",
    "print(cars1sim*100,'%')"
   ]
  },
  {
   "cell_type": "code",
   "execution_count": 13,
   "metadata": {},
   "outputs": [
    {
     "name": "stdout",
     "output_type": "stream",
     "text": [
      "Top 5% Gpa is 3.4934560880854417\n",
      "Sim top 5% is 3.494896505751779\n"
     ]
    }
   ],
   "source": [
    "#2 Grades of State University graduates are normally distributed with a \n",
    "#mean of 3.0 and a standard deviation of .3. Calculate the following:\n",
    "\n",
    "#What grade point average is required to be in the top 5% of the graduating class?\n",
    "gpa = stats.norm(3, .3)\n",
    "gpat5 = gpa.ppf(.95)\n",
    "print('Top 5% Gpa is',gpat5)\n",
    "\n",
    "#Sim\n",
    "gpas = np.random.normal(3, .3, 10_000)\n",
    "gpaS = np.percentile(gpas, 95)\n",
    "print('Sim top 5% is',gpaS)"
   ]
  },
  {
   "cell_type": "code",
   "execution_count": 14,
   "metadata": {},
   "outputs": [
    {
     "name": "stdout",
     "output_type": "stream",
     "text": [
      "Bottom 15% Gpa is 2.689069983151863\n",
      "Sim bottom 15% is 2.6850139724386364\n"
     ]
    }
   ],
   "source": [
    "#What GPA constitutes the bottom 15% of the class?\n",
    "gpa = stats.norm(3, .3)\n",
    "gpat5 = gpa.ppf(.15)\n",
    "print('Bottom 15% Gpa is',gpat5)\n",
    "\n",
    "#Sim\n",
    "gpas = np.random.normal(3, .3, 10_000)\n",
    "gpaS = np.percentile(gpas, 15)\n",
    "print('Sim bottom 15% is',gpaS)"
   ]
  },
  {
   "cell_type": "code",
   "execution_count": 15,
   "metadata": {},
   "outputs": [
    {
     "name": "stdout",
     "output_type": "stream",
     "text": [
      "GPAs between 2.7475136299281258 and 2.8339845841332982 are eligible for this scholarship\n",
      "Highest GPA in 3rd decile is 2.835628384106294\n",
      "Lowest GPA in 3rd decile is 2.7487236023173605\n"
     ]
    }
   ],
   "source": [
    "#An eccentric alumnus left scholarship money for students in\n",
    "#the third decile from the bottom of their class. Determine the \n",
    "#range of the third decile. Would a student with a 2.8 grade point \n",
    "#average qualify for this scholarship?\n",
    "top = gpa.ppf(.29)\n",
    "bottom = gpa.ppf(.20)\n",
    "print('GPAs between', bottom, 'and', top, 'are eligible for this scholarship')\n",
    "\n",
    "#sim\n",
    "gpas = np.random.normal(3, .3, 100000)\n",
    "tops = np.percentile(gpas, 29)\n",
    "bots = np.percentile(gpas, 20)\n",
    "print(f'Highest GPA in 3rd decile is {tops}')\n",
    "print(f'Lowest GPA in 3rd decile is {bots}')\n",
    "#Would a student with a 2.8 grade point average qualify for this scholarship?\n",
    "#yes"
   ]
  },
  {
   "cell_type": "code",
   "execution_count": 17,
   "metadata": {},
   "outputs": [
    {
     "data": {
      "text/plain": [
       "0.95203"
      ]
     },
     "execution_count": 17,
     "metadata": {},
     "output_type": "execute_result"
    }
   ],
   "source": [
    "#If I have a GPA of 3.5, what percentile am I in?\n",
    "gpa.cdf(3.5)\n",
    "\n",
    "#sim\n",
    "(gpas<=3.5).mean()"
   ]
  },
  {
   "cell_type": "code",
   "execution_count": 19,
   "metadata": {},
   "outputs": [
    {
     "data": {
      "text/plain": [
       "0.1333"
      ]
     },
     "execution_count": 19,
     "metadata": {},
     "output_type": "execute_result"
    }
   ],
   "source": [
    "#3 A marketing website has an average click-through rate of 2%. \n",
    "#One day they observe 4326 visitors and 97 click-throughs. How \n",
    "#likely is it that this many people or more click through?\n",
    "p = .02\n",
    "n = 4326\n",
    "stats.binom(n, p).sf(96)\n",
    "\n",
    "#sim\n",
    "(np.random.choice([1, 0], p=[.02, .98], size=(10_000, 4326)).sum(axis=1) >= 97).mean()"
   ]
  },
  {
   "cell_type": "code",
   "execution_count": 21,
   "metadata": {},
   "outputs": [
    {
     "data": {
      "text/plain": [
       "0.45077"
      ]
     },
     "execution_count": 21,
     "metadata": {},
     "output_type": "execute_result"
    }
   ],
   "source": [
    "#4 You are working on some statistics homework consisting of 100 \n",
    "#questions where all of the answers are a probability rounded \n",
    "#to the hundreths place. Looking to save time, you put down \n",
    "#random probabilities as the answer to each question.\n",
    "#What is the probability that at least one of your first 60 \n",
    "#answers is correct?\n",
    "p = .01\n",
    "n = 60\n",
    "\n",
    "stats.binom(n, p).sf(0)\n",
    "\n",
    "#sim alt\n",
    "(np.random.uniform(size=(10000, 60)).round(2) == 0.34).any(axis=1).mean()\n",
    "\n",
    "(np.random.uniform(size=(10000, 60)).round(2) == np.random.uniform(size=(10000, 60)).round(2)).any(axis=1).mean()\n",
    "\n",
    "(np.random.binomial(60, .01, 100000) > 0).mean()"
   ]
  },
  {
   "cell_type": "code",
   "execution_count": 22,
   "metadata": {},
   "outputs": [
    {
     "data": {
      "text/plain": [
       "0.831"
      ]
     },
     "execution_count": 22,
     "metadata": {},
     "output_type": "execute_result"
    }
   ],
   "source": [
    "#5 The codeup staff tends to get upset when the student break area is \n",
    "#not cleaned up. Suppose that there's a 3% chance that any one student \n",
    "#cleans the break area when they visit it, and, on any given day, \n",
    "#about 90% of the 3 active cohorts of 22 students visit the break area.\n",
    "\n",
    " \n",
    "#All week?\n",
    "p = .03\n",
    "n = round(.9 * 3 * 22)\n",
    "\n",
    "stats.binom(n, p).sf(0)\n",
    "#sim\n",
    "(np.random.choice([1, 0], p=[.03, .97], size=(1000, n)).sum(axis=1) > 0).mean()\n"
   ]
  },
  {
   "cell_type": "code",
   "execution_count": 24,
   "metadata": {},
   "outputs": [
    {
     "data": {
      "text/plain": [
       "0.02748303199257623"
      ]
     },
     "execution_count": 24,
     "metadata": {},
     "output_type": "execute_result"
    }
   ],
   "source": [
    "#How likely is it that it goes two days without getting cleaned up?\n",
    "1 - stats.binom(n * 2, p).sf(0)\n",
    "\n",
    "stats.binom(n * 2, p).cdf(0)\n",
    "\n",
    "stats.binom(n * 2, p).pmf(0)"
   ]
  },
  {
   "cell_type": "code",
   "execution_count": 26,
   "metadata": {},
   "outputs": [
    {
     "data": {
      "text/plain": [
       "0.028"
      ]
     },
     "execution_count": 26,
     "metadata": {},
     "output_type": "execute_result"
    }
   ],
   "source": [
    "#How likely is it that the break area gets cleaned up each day? \n",
    "stats.binom(n, p).sf(0)\n",
    "\n",
    "p_break_area_gets_cleaned_in_one_day = stats.binom(n, p).sf(0)\n",
    "\n",
    "stats.binom(2, p_break_area_gets_cleaned_in_one_day).pmf(0)\n",
    "\n",
    "#sim\n",
    "(np.random.choice([1, 0], p=[.03, .97], size=(1000, n * 2)).sum(axis=1) == 0).mean()"
   ]
  },
  {
   "cell_type": "code",
   "execution_count": 28,
   "metadata": {},
   "outputs": [
    {
     "data": {
      "text/plain": [
       "0.7945"
      ]
     },
     "execution_count": 28,
     "metadata": {},
     "output_type": "execute_result"
    }
   ],
   "source": [
    "#6 You want to get lunch at La Panaderia, but notice that the line is \n",
    "#usually very long at lunchtime. After several weeks of careful \n",
    "#observation, you notice that the average number of people in line \n",
    "#when your lunch break starts is normally distributed with a mean of \n",
    "#15 and standard deviation of 3. If it takes 2 minutes for each \n",
    "#person to order, and 10 minutes from ordering to getting your food, \n",
    "#what is the likelihood that you have at least 15 minutes left to eat \n",
    "#your food before you have to go back to class? Assume you have one \n",
    "#hour for lunch, and ignore travel time to and from La Panaderia.\n",
    "\n",
    "# Let's use minutes for the units here, because that's ultimately what we need\n",
    "mean = 15 * 2 # people times minutes to order\n",
    "sd = 3 * 2 # people times minutes to order\n",
    "\n",
    "time_for_lunch = 60\n",
    "time_to_get_food = 10\n",
    "time_to_eat = 15\n",
    "\n",
    "# maximum amount of time we can wait in line\n",
    "wait_time_cap = time_for_lunch - (time_to_get_food + time_to_eat)\n",
    "\n",
    "stats.norm(mean, sd).cdf(wait_time_cap)\n",
    "\n",
    "#sim\n",
    "(np.random.normal(mean, sd, 10000) <= wait_time_cap).mean()"
   ]
  },
  {
   "cell_type": "code",
   "execution_count": 29,
   "metadata": {},
   "outputs": [
    {
     "ename": "ModuleNotFoundError",
     "evalue": "No module named 'env'",
     "output_type": "error",
     "traceback": [
      "\u001b[0;31m---------------------------------------------------------------------------\u001b[0m",
      "\u001b[0;31mModuleNotFoundError\u001b[0m                       Traceback (most recent call last)",
      "\u001b[0;32m<ipython-input-29-52113d0603ea>\u001b[0m in \u001b[0;36m<module>\u001b[0;34m\u001b[0m\n\u001b[0;32m----> 1\u001b[0;31m \u001b[0;32mimport\u001b[0m \u001b[0menv\u001b[0m\u001b[0;34m\u001b[0m\u001b[0;34m\u001b[0m\u001b[0m\n\u001b[0m\u001b[1;32m      2\u001b[0m \u001b[0;34m\u001b[0m\u001b[0m\n\u001b[1;32m      3\u001b[0m \u001b[0murl\u001b[0m \u001b[0;34m=\u001b[0m \u001b[0;34mf'mysql+pymysql://{env.user}:{env.password}@{env.host}/employees'\u001b[0m\u001b[0;34m\u001b[0m\u001b[0;34m\u001b[0m\u001b[0m\n\u001b[1;32m      4\u001b[0m query = '''\n\u001b[1;32m      5\u001b[0m \u001b[0mSELECT\u001b[0m \u001b[0;34m*\u001b[0m\u001b[0;34m\u001b[0m\u001b[0;34m\u001b[0m\u001b[0m\n",
      "\u001b[0;31mModuleNotFoundError\u001b[0m: No module named 'env'"
     ]
    }
   ],
   "source": [
    "#Connect to the employees database and find the average salary of \n",
    "#current employees, along with the standard deviation. For the \n",
    "#following questions, calculate the answer based on modeling the \n",
    "#employees salaries with a normal distribution defined by the \n",
    "#calculated mean and standard deviation then compare this answer to\n",
    "#the actual values present in the salaries dataset.\n",
    "\n",
    "import env\n",
    "\n",
    "url = f'mysql+pymysql://{env.user}:{env.password}@{env.host}/employees'\n",
    "query = '''\n",
    "SELECT *\n",
    "FROM salaries s\n",
    "WHERE emp_no IN (\n",
    "    SELECT emp_no FROM dept_emp\n",
    "    WHERE to_date > NOW()\n",
    ") AND to_date > NOW()\n",
    "'''\n",
    "    \n",
    "salaries = pd.read_sql(query, url)\n",
    "salaries"
   ]
  },
  {
   "cell_type": "code",
   "execution_count": null,
   "metadata": {},
   "outputs": [],
   "source": [
    "mean = salaries.salary.mean()\n",
    "sd = salaries.salary.std()\n"
   ]
  },
  {
   "cell_type": "code",
   "execution_count": null,
   "metadata": {},
   "outputs": [],
   "source": [
    "#What percent of employees earn less than 60,000?\n",
    "stats.norm(mean, sd).cdf(60000)\n",
    "\n",
    "#sim\n",
    "(salaries.salary < 60000).mean()"
   ]
  },
  {
   "cell_type": "code",
   "execution_count": null,
   "metadata": {},
   "outputs": [],
   "source": [
    "#What percent of employees earn more than 95,000?\n",
    "stats.norm(mean, sd).sf(95000)\n",
    "\n",
    "#sim\n",
    "(salaries.salary > 95000).mean()"
   ]
  },
  {
   "cell_type": "code",
   "execution_count": null,
   "metadata": {},
   "outputs": [],
   "source": [
    "#What percent of employees earn between 65,000 and 80,000?\n",
    "((salaries.salary >= 65000) & (salaries.salary <= 80000)).mean()\n",
    "\n",
    "np.diff(stats.norm(mean, sd).cdf([65000, 80000]))\n"
   ]
  },
  {
   "cell_type": "code",
   "execution_count": null,
   "metadata": {},
   "outputs": [],
   "source": [
    "#What do the top 5% of employees make?\n",
    "salaries.salary.quantile(.95)\n",
    "\n",
    "stats.norm(mean, sd).isf(.05)\n",
    "\n",
    "\n"
   ]
  },
  {
   "cell_type": "code",
   "execution_count": null,
   "metadata": {},
   "outputs": [],
   "source": [
    "#Graph it\n",
    "salaries.salary.plot.hist(bins=25, ec='black')\n"
   ]
  }
 ],
 "metadata": {
  "kernelspec": {
   "display_name": "Python 3",
   "language": "python",
   "name": "python3"
  },
  "language_info": {
   "codemirror_mode": {
    "name": "ipython",
    "version": 3
   },
   "file_extension": ".py",
   "mimetype": "text/x-python",
   "name": "python",
   "nbconvert_exporter": "python",
   "pygments_lexer": "ipython3",
   "version": "3.7.6"
  }
 },
 "nbformat": 4,
 "nbformat_minor": 4
}
